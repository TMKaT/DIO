{
 "cells": [
  {
   "cell_type": "code",
   "execution_count": 10,
   "id": "594fc3e1",
   "metadata": {},
   "outputs": [],
   "source": [
    "# Importando pacotes necessários\n",
    "import tensorflow as tf\n",
    "from tensorflow.keras.preprocessing.image import ImageDataGenerator\n",
    "from tensorflow.keras.applications import MobileNetV2\n",
    "from tensorflow.keras.applications import Xception\n",
    "from tensorflow.keras.layers import AveragePooling2D\n",
    "from tensorflow.keras.layers import Dropout\n",
    "from tensorflow.keras.layers import Flatten\n",
    "from tensorflow.keras.layers import Dense\n",
    "from tensorflow.keras.layers import Input\n",
    "from tensorflow.keras.models import Model\n",
    "from tensorflow.keras.optimizers import Adam,SGD\n",
    "from tensorflow.keras.applications.mobilenet_v2 import preprocess_input\n",
    "from tensorflow.keras.preprocessing.image import img_to_array\n",
    "from tensorflow.keras.preprocessing.image import load_img\n",
    "from tensorflow.keras.utils import to_categorical\n",
    "from sklearn.preprocessing import LabelBinarizer\n",
    "from sklearn.model_selection import train_test_split\n",
    "from sklearn.metrics import classification_report\n",
    "from imutils import paths\n",
    "import keras\n",
    "import tensorflow as tf\n",
    "import matplotlib.pyplot as plt\n",
    "import numpy as np\n",
    "import argparse\n",
    "import os\n",
    "import cv2\n",
    "\n",
    "import PIL\n",
    "from pathlib import Path\n",
    "from PIL import UnidentifiedImageError"
   ]
  },
  {
   "cell_type": "markdown",
   "id": "9baefc94",
   "metadata": {},
   "source": [
    "## Importando DataSet"
   ]
  },
  {
   "cell_type": "code",
   "execution_count": 11,
   "id": "042646b6",
   "metadata": {},
   "outputs": [
    {
     "name": "stdout",
     "output_type": "stream",
     "text": [
      "Downloading data from file:C:/Users/Junior/Desktop/Nova pasta/kagglecatsanddogs_5340.zip\n",
      "824887076/824887076 [==============================] - 2s 0us/step\n"
     ]
    }
   ],
   "source": [
    "_URL = \"file:C:/Users/Junior/Desktop/Nova pasta/kagglecatsanddogs_5340.zip\"\n",
    "zip_dir = tf.keras.utils.get_file('kagglecatsanddogs_5340.zip', origin=_URL, extract=True)\n"
   ]
  },
  {
   "cell_type": "code",
   "execution_count": 12,
   "id": "1f381026",
   "metadata": {},
   "outputs": [
    {
     "data": {
      "text/plain": [
       "'C:\\\\Users\\\\Junior\\\\.keras\\\\datasets\\\\kagglecatsanddogs_5340.zip'"
      ]
     },
     "execution_count": 12,
     "metadata": {},
     "output_type": "execute_result"
    }
   ],
   "source": [
    "zip_dir"
   ]
  },
  {
   "cell_type": "code",
   "execution_count": 16,
   "id": "6040df1f",
   "metadata": {},
   "outputs": [],
   "source": [
    "%%capture\n",
    "!unzip C:\\\\Users\\\\Junior\\\\.keras\\\\datasets\\\\kagglecatsanddogs_5340.zip;"
   ]
  },
  {
   "cell_type": "code",
   "execution_count": 18,
   "id": "8a126963",
   "metadata": {},
   "outputs": [],
   "source": [
    "# inicializa a taxa de aprendizado inicial, o número de \"EPOCHS\" para treino e o tamanho do lote\n",
    "IMG_SIZE = 224\n",
    "INIT_LR = 1e-4\n",
    "BS = 256\n",
    "EPOCHS = 8"
   ]
  },
  {
   "cell_type": "code",
   "execution_count": 19,
   "id": "face3557",
   "metadata": {},
   "outputs": [],
   "source": [
    "train = ImageDataGenerator(\n",
    "rescale = 1./255,\n",
    "horizontal_flip=True,\n",
    "vertical_flip=True,\n",
    "shear_range=0.2,\n",
    "zoom_range=0.2,\n",
    "rotation_range=40, # Faixa de graus para rotações aleatórias\n",
    "width_shift_range=0.2,\n",
    "height_shift_range=0.2,\n",
    "fill_mode='nearest',\n",
    "validation_split=0.2)"
   ]
  },
  {
   "cell_type": "code",
   "execution_count": 20,
   "id": "85a1fc39",
   "metadata": {},
   "outputs": [],
   "source": [
    "dest = 'C:/Users/Junior/PetImages'"
   ]
  },
  {
   "cell_type": "markdown",
   "id": "8544578f",
   "metadata": {},
   "source": [
    "## Removendo imagens corrompidas"
   ]
  },
  {
   "cell_type": "code",
   "execution_count": 21,
   "id": "888ef881",
   "metadata": {},
   "outputs": [],
   "source": [
    "import PIL\n",
    "from pathlib import Path\n",
    "from PIL import UnidentifiedImageError"
   ]
  },
  {
   "cell_type": "code",
   "execution_count": 23,
   "id": "62170fd9",
   "metadata": {},
   "outputs": [
    {
     "name": "stdout",
     "output_type": "stream",
     "text": [
      "C:\\Users\\Junior\\PetImages\\Cat\\666.jpg\n"
     ]
    }
   ],
   "source": [
    "path = Path('C:/Users/Junior/PetImages/Cat').rglob(\"*.jpg\")\n",
    "for img_p in path:\n",
    "    try:\n",
    "        img = PIL.Image.open(img_p)\n",
    "    except PIL.UnidentifiedImageError:\n",
    "            print(img_p)"
   ]
  },
  {
   "cell_type": "code",
   "execution_count": 24,
   "id": "e3265a14",
   "metadata": {},
   "outputs": [
    {
     "name": "stdout",
     "output_type": "stream",
     "text": [
      "removida\n"
     ]
    }
   ],
   "source": [
    "import os\n",
    "try: \n",
    "    os.remove(\"C:/Users/Junior/PetImages/Cat/666.jpg\")\n",
    "    print(\"removida\")\n",
    "except:\n",
    "    print(\"Não foi possível removê-la\") \n",
    "pass"
   ]
  },
  {
   "cell_type": "code",
   "execution_count": 25,
   "id": "373d46ba",
   "metadata": {},
   "outputs": [
    {
     "name": "stdout",
     "output_type": "stream",
     "text": [
      "C:\\Users\\Junior\\PetImages\\Dog\\11702.jpg\n"
     ]
    },
    {
     "name": "stderr",
     "output_type": "stream",
     "text": [
      "C:\\Users\\Junior\\anaconda3\\envs\\tensorflow\\lib\\site-packages\\PIL\\TiffImagePlugin.py:845: UserWarning: Truncated File Read\n",
      "  warnings.warn(str(msg))\n"
     ]
    }
   ],
   "source": [
    "path = Path('C:/Users/Junior/PetImages/Dog').rglob(\"*.jpg\")\n",
    "for img_p in path:\n",
    "    try:\n",
    "        img = PIL.Image.open(img_p)\n",
    "    except PIL.UnidentifiedImageError:\n",
    "            print(img_p)"
   ]
  },
  {
   "cell_type": "code",
   "execution_count": 26,
   "id": "137593d3",
   "metadata": {},
   "outputs": [
    {
     "name": "stdout",
     "output_type": "stream",
     "text": [
      "removida\n"
     ]
    }
   ],
   "source": [
    "import os\n",
    "try: \n",
    "    os.remove(\"C:/Users/Junior/PetImages/Dog/11702.jpg\")\n",
    "    print(\"removida\")\n",
    "except:\n",
    "    print(\"Não foi possível removê-la\") \n",
    "pass"
   ]
  },
  {
   "cell_type": "markdown",
   "id": "af8c7f86",
   "metadata": {},
   "source": [
    " ## Set de Treino e Set de Validação"
   ]
  },
  {
   "cell_type": "code",
   "execution_count": 27,
   "id": "db867fd2",
   "metadata": {},
   "outputs": [
    {
     "name": "stdout",
     "output_type": "stream",
     "text": [
      "Found 20000 images belonging to 2 classes.\n"
     ]
    }
   ],
   "source": [
    "trainset = train.flow_from_directory(dest,\n",
    "target_size = (IMG_SIZE,IMG_SIZE),\n",
    "batch_size = BS,\n",
    "shuffle=False,\n",
    "seed=42,\n",
    "color_mode='rgb',\n",
    "subset = \"training\",\n",
    "class_mode='categorical')"
   ]
  },
  {
   "cell_type": "code",
   "execution_count": 28,
   "id": "ec1b1ff2",
   "metadata": {},
   "outputs": [
    {
     "name": "stdout",
     "output_type": "stream",
     "text": [
      "Found 4998 images belonging to 2 classes.\n"
     ]
    }
   ],
   "source": [
    "validset = train.flow_from_directory(dest,\n",
    "target_size = (IMG_SIZE,IMG_SIZE),\n",
    "batch_size = BS,\n",
    "shuffle=False,\n",
    "seed=42,\n",
    "color_mode='rgb',\n",
    "subset = \"validation\",\n",
    "class_mode='categorical')"
   ]
  },
  {
   "cell_type": "code",
   "execution_count": 29,
   "id": "e7a75dbd",
   "metadata": {},
   "outputs": [],
   "source": [
    "NUM_CLASSES = 2"
   ]
  },
  {
   "cell_type": "markdown",
   "id": "740bf0b6",
   "metadata": {},
   "source": [
    "## Arquitetura do modelo - Xception!"
   ]
  },
  {
   "cell_type": "code",
   "execution_count": 30,
   "id": "23a506bd",
   "metadata": {},
   "outputs": [
    {
     "name": "stdout",
     "output_type": "stream",
     "text": [
      "Downloading data from https://storage.googleapis.com/tensorflow/keras-applications/xception/xception_weights_tf_dim_ordering_tf_kernels_notop.h5\n",
      "83683744/83683744 [==============================] - 7s 0us/step\n",
      "[INFO] compilando modelo...\n",
      "[INFO] Treinando o topo...\n"
     ]
    }
   ],
   "source": [
    "# Carregando a rede \"MobileNetV2\", garantindo que os conjuntos de camadas \"FC\" (fully connected) principais sejam deixados de fora\n",
    "baseModel = Xception(weights=\"imagenet\", include_top=False,input_tensor=Input(shape=(IMG_SIZE,IMG_SIZE, 3)))\n",
    "\n",
    "# Construindo a cabeça do modelo que será colocado no topo do modelo base\n",
    "headModel = baseModel.output\n",
    "headModel = AveragePooling2D(pool_size=(5, 5))(headModel)\n",
    "headModel = Flatten(name=\"flatten\")(headModel)\n",
    "headModel = Dense(64, activation=\"relu\")(headModel)\n",
    "headModel = Dropout(0.8)(headModel)\n",
    "headModel = Dense(NUM_CLASSES, activation=\"softmax\")(headModel)\n",
    "\n",
    "# Colocando o modelo FC principal no topo do modelo base (este se tornará o modelo real que vamos treinar)\n",
    "model = Model(inputs=baseModel.input, outputs=headModel)\n",
    "\n",
    "# Fazendo um loop sobre todas as camadas no modelo base e travando-as para que não sejam atualizadas durante o primeiro processo de treinamento\n",
    "for layer in baseModel.layers:\n",
    "\tlayer.trainable = False\n",
    "\n",
    "\n",
    "# Compilando nosso modelo\n",
    "print(\"[INFO] compilando modelo...\")\n",
    "opt = Adam()\n",
    "model.compile(loss=\"binary_crossentropy\", optimizer=opt,metrics=[\"accuracy\"])\n",
    "\n",
    "# Treinando o topo da rede\n",
    "print(\"[INFO] Treinando o topo...\")"
   ]
  },
  {
   "cell_type": "markdown",
   "id": "48a1d202",
   "metadata": {},
   "source": [
    "## Treinando"
   ]
  },
  {
   "cell_type": "code",
   "execution_count": 31,
   "id": "6e092382",
   "metadata": {},
   "outputs": [
    {
     "name": "stderr",
     "output_type": "stream",
     "text": [
      "C:\\Users\\Junior\\AppData\\Local\\Temp\\ipykernel_12292\\1129683363.py:1: UserWarning: `Model.fit_generator` is deprecated and will be removed in a future version. Please use `Model.fit`, which supports generators.\n",
      "  H = model.fit_generator(\n"
     ]
    },
    {
     "name": "stdout",
     "output_type": "stream",
     "text": [
      "Epoch 1/8\n",
      "79/79 [==============================] - 742s 9s/step - loss: 0.7888 - accuracy: 0.5031 - val_loss: 0.5366 - val_accuracy: 0.5010\n",
      "Epoch 2/8\n",
      "79/79 [==============================] - 727s 9s/step - loss: 0.6117 - accuracy: 0.6170 - val_loss: 0.5037 - val_accuracy: 0.8954\n",
      "Epoch 3/8\n",
      "79/79 [==============================] - 727s 9s/step - loss: 0.5967 - accuracy: 0.6683 - val_loss: 0.4640 - val_accuracy: 0.8758\n",
      "Epoch 4/8\n",
      "79/79 [==============================] - 727s 9s/step - loss: 0.5638 - accuracy: 0.7357 - val_loss: 0.4503 - val_accuracy: 0.9144\n",
      "Epoch 5/8\n",
      "79/79 [==============================] - 730s 9s/step - loss: 0.5349 - accuracy: 0.7660 - val_loss: 0.4520 - val_accuracy: 0.9130\n",
      "Epoch 6/8\n",
      "79/79 [==============================] - 728s 9s/step - loss: 0.5227 - accuracy: 0.7761 - val_loss: 0.4232 - val_accuracy: 0.9182\n",
      "Epoch 7/8\n",
      "79/79 [==============================] - 729s 9s/step - loss: 0.5147 - accuracy: 0.7796 - val_loss: 0.4192 - val_accuracy: 0.9194\n",
      "Epoch 8/8\n",
      "79/79 [==============================] - 728s 9s/step - loss: 0.5130 - accuracy: 0.7794 - val_loss: 0.4138 - val_accuracy: 0.9232\n"
     ]
    }
   ],
   "source": [
    "H = model.fit_generator(\n",
    "\ttrainset,\n",
    "  validation_data = validset,\n",
    "\tepochs=EPOCHS)"
   ]
  },
  {
   "cell_type": "code",
   "execution_count": 34,
   "id": "ddda6933",
   "metadata": {},
   "outputs": [
    {
     "name": "stdout",
     "output_type": "stream",
     "text": [
      "[INFO] salvando o modelo detector de máscara...\n"
     ]
    }
   ],
   "source": [
    "# Serializando o modelo no disco\n",
    "print(\"[INFO] salvando o modelo detector de máscara...\")\n",
    "model.save('gato_cachorro.h5', save_format=\"h5\")"
   ]
  },
  {
   "cell_type": "markdown",
   "id": "d3b8dda0",
   "metadata": {},
   "source": [
    "## Gráfico de Erro e de Precisão"
   ]
  },
  {
   "cell_type": "code",
   "execution_count": 33,
   "id": "dbb4d4b2",
   "metadata": {},
   "outputs": [
    {
     "data": {
      "image/png": "[encoded data removed]",
      "text/plain": [
       "<Figure size 640x480 with 1 Axes>"
      ]
     },
     "metadata": {},
     "output_type": "display_data"
    },
    {
     "data": {
      "text/plain": [
       "<Figure size 640x480 with 0 Axes>"
      ]
     },
     "metadata": {},
     "output_type": "display_data"
    }
   ],
   "source": [
    "# Plotando os Erros no Treino e a Precisão\n",
    "N = EPOCHS\n",
    "plt.style.use(\"ggplot\")\n",
    "plt.figure()\n",
    "plt.plot(np.arange(0, N), H.history[\"loss\"], label=\"Erros no treinamento\")\n",
    "plt.plot(np.arange(0, N), H.history[\"val_loss\"], label=\"Erros na Validação\")\n",
    "plt.plot(np.arange(0, N), H.history[\"accuracy\"], label=\"Precisão do treinamento\")\n",
    "plt.plot(np.arange(0, N), H.history[\"val_accuracy\"], label=\"Precisão da Validação\")\n",
    "plt.title(\"Erros no treinamento e  precisão\")\n",
    "plt.xlabel(\"Epoch nº\")\n",
    "plt.ylabel(\"Erros/Precisão\")\n",
    "plt.legend(loc=\"lower left\")\n",
    "plt.show()\n",
    "plt.savefig('graph.png')"
   ]
  },
  {
   "cell_type": "code",
   "execution_count": null,
   "id": "24993d8e",
   "metadata": {},
   "outputs": [],
   "source": []
  }
 ],
 "metadata": {
  "kernelspec": {
   "display_name": "Python 3 (ipykernel)",
   "language": "python",
   "name": "python3"
  },
  "language_info": {
   "codemirror_mode": {
    "name": "ipython",
    "version": 3
   },
   "file_extension": ".py",
   "mimetype": "text/x-python",
   "name": "python",
   "nbconvert_exporter": "python",
   "pygments_lexer": "ipython3",
   "version": "3.9.13"
  }
 },
 "nbformat": 4,
 "nbformat_minor": 5
}

